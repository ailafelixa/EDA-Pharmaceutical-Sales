{
 "cells": [
  {
   "cell_type": "code",
   "execution_count": 1,
   "id": "973d226f",
   "metadata": {
    "_cell_guid": "b1076dfc-b9ad-4769-8c92-a6c4dae69d19",
    "_uuid": "8f2839f25d086af736a60e9eeb907d3b93b6e0e5",
    "execution": {
     "iopub.execute_input": "2023-01-10T17:43:24.243700Z",
     "iopub.status.busy": "2023-01-10T17:43:24.243167Z",
     "iopub.status.idle": "2023-01-10T17:43:25.345952Z",
     "shell.execute_reply": "2023-01-10T17:43:25.344616Z"
    },
    "papermill": {
     "duration": 1.115507,
     "end_time": "2023-01-10T17:43:25.349528",
     "exception": false,
     "start_time": "2023-01-10T17:43:24.234021",
     "status": "completed"
    },
    "tags": []
   },
   "outputs": [
    {
     "name": "stdout",
     "output_type": "stream",
     "text": [
      "/kaggle/input/pharma-sales-data/salesdaily.csv\n",
      "/kaggle/input/pharma-sales-data/salesweekly.csv\n",
      "/kaggle/input/pharma-sales-data/salesmonthly.csv\n",
      "/kaggle/input/pharma-sales-data/saleshourly.csv\n"
     ]
    }
   ],
   "source": [
    "# This Python 3 environment comes with many helpful analytics libraries installed\n",
    "# It is defined by the kaggle/python Docker image: https://github.com/kaggle/docker-python\n",
    "# For example, here's several helpful packages to load\n",
    "\n",
    "import numpy as np # linear algebra\n",
    "import pandas as pd # data processing, CSV file I/O (e.g. pd.read_csv)\n",
    "import seaborn as sns\n",
    "import matplotlib.pyplot as plt\n",
    "%matplotlib inline\n",
    "\n",
    "\n",
    "# Input data files are available in the read-only \"../input/\" directory\n",
    "# For example, running this (by clicking run or pressing Shift+Enter) will list all files under the input directory\n",
    "\n",
    "import os\n",
    "for dirname, _, filenames in os.walk('/kaggle/input'):\n",
    "    for filename in filenames:\n",
    "        print(os.path.join(dirname, filename))\n",
    "\n",
    "# You can write up to 20GB to the current directory (/kaggle/working/) that gets preserved as output when you create a version using \"Save & Run All\" \n",
    "# You can also write temporary files to /kaggle/temp/, but they won't be saved outside of the current session"
   ]
  },
  {
   "cell_type": "markdown",
   "id": "a11ac6f6",
   "metadata": {
    "papermill": {
     "duration": 0.003939,
     "end_time": "2023-01-10T17:43:25.358105",
     "exception": false,
     "start_time": "2023-01-10T17:43:25.354166",
     "status": "completed"
    },
    "tags": []
   },
   "source": [
    "### Descrição dos dados ###\n",
    "[Descrição completa e fonte podem ser encontradas aqui](https://www.kaggle.com/datasets/milanzdravkovic/pharma-sales-data) \n",
    "\n",
    "The dataset is built from the initial dataset consisted of 600000 transactional data collected in 6 years (period 2014-2019), indicating date and time of sale, pharmaceutical drug brand name and sold quantity, exported from Point-of-Sale system in the individual pharmacy. Selected group of drugs from the dataset (57 drugs) is classified to the following Anatomical Therapeutic Chemical (ATC) Classification System categories:\n",
    "\n",
    "M01AB - Anti-inflammatory and antirheumatic products, non-steroids, Acetic acid derivatives and related substances\n",
    "\n",
    "M01AE - Anti-inflammatory and antirheumatic products, non-steroids, Propionic acid derivatives\n",
    "\n",
    "N02BA - Other analgesics and antipyretics, Salicylic acid and derivatives\n",
    "\n",
    "N02BE/B - Other analgesics and antipyretics, Pyrazolones and Anilides\n",
    "\n",
    "N05B - Psycholeptics drugs, Anxiolytic drugs\n",
    "\n",
    "N05C - Psycholeptics drugs, Hypnotics and sedatives drugs\n",
    "\n",
    "R03 - Drugs for obstructive airway diseases\n",
    "\n",
    "R06 - Antihistamines for systemic use"
   ]
  },
  {
   "cell_type": "markdown",
   "id": "28657a13",
   "metadata": {
    "papermill": {
     "duration": 0.003833,
     "end_time": "2023-01-10T17:43:25.366197",
     "exception": false,
     "start_time": "2023-01-10T17:43:25.362364",
     "status": "completed"
    },
    "tags": []
   },
   "source": [
    "____________________________________________________"
   ]
  },
  {
   "cell_type": "markdown",
   "id": "837a93ff",
   "metadata": {
    "papermill": {
     "duration": 0.00385,
     "end_time": "2023-01-10T17:43:25.374177",
     "exception": false,
     "start_time": "2023-01-10T17:43:25.370327",
     "status": "completed"
    },
    "tags": []
   },
   "source": [
    "#### **Nosso objetivo é avaliar a venda de diferentes medicamentos, de modo a conseguir capturar alguns insigths importantes como:**\n",
    "#### \n",
    "*1.Quais classes de medicamentos estão apresentando aumento ou diminuição de demanda ao longo dos anos?*\n",
    "\n",
    "*2. Quais as classes de medicamentos mais e menos vendidos por mês?*\n",
    "\n",
    "*3. Quais os meses com mais e menos vendas?*"
   ]
  },
  {
   "cell_type": "markdown",
   "id": "d22c5fed",
   "metadata": {
    "papermill": {
     "duration": 0.00386,
     "end_time": "2023-01-10T17:43:25.382157",
     "exception": false,
     "start_time": "2023-01-10T17:43:25.378297",
     "status": "completed"
    },
    "tags": []
   },
   "source": [
    "## Importação e pré-processamento ##"
   ]
  },
  {
   "cell_type": "code",
   "execution_count": 2,
   "id": "4dbeca26",
   "metadata": {
    "execution": {
     "iopub.execute_input": "2023-01-10T17:43:25.392559Z",
     "iopub.status.busy": "2023-01-10T17:43:25.391867Z",
     "iopub.status.idle": "2023-01-10T17:43:25.423676Z",
     "shell.execute_reply": "2023-01-10T17:43:25.422267Z"
    },
    "papermill": {
     "duration": 0.040166,
     "end_time": "2023-01-10T17:43:25.426441",
     "exception": false,
     "start_time": "2023-01-10T17:43:25.386275",
     "status": "completed"
    },
    "tags": []
   },
   "outputs": [
    {
     "data": {
      "text/plain": [
       "datum    datetime64[ns]\n",
       "M01AB           float64\n",
       "M01AE           float64\n",
       "N02BA           float64\n",
       "N02BE           float64\n",
       "N05B            float64\n",
       "N05C            float64\n",
       "R03             float64\n",
       "R06             float64\n",
       "dtype: object"
      ]
     },
     "execution_count": 2,
     "metadata": {},
     "output_type": "execute_result"
    }
   ],
   "source": [
    "#Primeiro, vamos importar e checar a estrutura dos dados\n",
    "pharma_sales_data = pd.read_csv('/kaggle/input/pharma-sales-data/salesmonthly.csv')\n",
    "pharma_sales_data.head()\n",
    "#pharma_sales_data.tail()\n",
    "\n",
    "#Podemos notar que os dados já estão ordenados pela data e que a coleta dos dados ocorre no último dia de cada mês.\n",
    "#Vamos ver em qual formato os dados estão armazenados\n",
    "pharma_sales_data.dtypes\n",
    "\n",
    "#A coluna de data está com tipo 'object', mas para trabalharmos com as datas corretamente devemos converte-la para o tipo datetime64\n",
    "pharma_sales_data['datum'] = pd.to_datetime(pharma_sales_data['datum'], format='%Y-%m-%d')\n",
    "pharma_sales_data.dtypes"
   ]
  },
  {
   "cell_type": "markdown",
   "id": "93b1eef1",
   "metadata": {
    "papermill": {
     "duration": 0.004195,
     "end_time": "2023-01-10T17:43:25.435128",
     "exception": false,
     "start_time": "2023-01-10T17:43:25.430933",
     "status": "completed"
    },
    "tags": []
   },
   "source": [
    "### 1. Quais classes de medicamentos apresentaram aumento ou diminuição de demanda ao longo dos anos? ##"
   ]
  },
  {
   "cell_type": "code",
   "execution_count": 3,
   "id": "1a600f3c",
   "metadata": {
    "execution": {
     "iopub.execute_input": "2023-01-10T17:43:25.446319Z",
     "iopub.status.busy": "2023-01-10T17:43:25.445892Z",
     "iopub.status.idle": "2023-01-10T17:43:25.484504Z",
     "shell.execute_reply": "2023-01-10T17:43:25.482947Z"
    },
    "papermill": {
     "duration": 0.047195,
     "end_time": "2023-01-10T17:43:25.487048",
     "exception": false,
     "start_time": "2023-01-10T17:43:25.439853",
     "status": "completed"
    },
    "tags": []
   },
   "outputs": [
    {
     "name": "stderr",
     "output_type": "stream",
     "text": [
      "/opt/conda/lib/python3.7/site-packages/pandas/core/indexing.py:1773: SettingWithCopyWarning: \n",
      "A value is trying to be set on a copy of a slice from a DataFrame.\n",
      "Try using .loc[row_indexer,col_indexer] = value instead\n",
      "\n",
      "See the caveats in the documentation: https://pandas.pydata.org/pandas-docs/stable/user_guide/indexing.html#returning-a-view-versus-a-copy\n",
      "  self._setitem_single_column(ilocs[0], value, pi)\n"
     ]
    },
    {
     "data": {
      "text/html": [
       "<div>\n",
       "<style scoped>\n",
       "    .dataframe tbody tr th:only-of-type {\n",
       "        vertical-align: middle;\n",
       "    }\n",
       "\n",
       "    .dataframe tbody tr th {\n",
       "        vertical-align: top;\n",
       "    }\n",
       "\n",
       "    .dataframe thead th {\n",
       "        text-align: right;\n",
       "    }\n",
       "</style>\n",
       "<table border=\"1\" class=\"dataframe\">\n",
       "  <thead>\n",
       "    <tr style=\"text-align: right;\">\n",
       "      <th></th>\n",
       "      <th>M01AB</th>\n",
       "      <th>M01AE</th>\n",
       "      <th>N02BA</th>\n",
       "      <th>N02BE</th>\n",
       "      <th>N05B</th>\n",
       "      <th>N05C</th>\n",
       "      <th>R03</th>\n",
       "      <th>R06</th>\n",
       "    </tr>\n",
       "    <tr>\n",
       "      <th>datum</th>\n",
       "      <th></th>\n",
       "      <th></th>\n",
       "      <th></th>\n",
       "      <th></th>\n",
       "      <th></th>\n",
       "      <th></th>\n",
       "      <th></th>\n",
       "      <th></th>\n",
       "    </tr>\n",
       "  </thead>\n",
       "  <tbody>\n",
       "    <tr>\n",
       "      <th>2014</th>\n",
       "      <td>125.8975</td>\n",
       "      <td>111.132833</td>\n",
       "      <td>140.27325</td>\n",
       "      <td>841.212917</td>\n",
       "      <td>362.916667</td>\n",
       "      <td>25.25</td>\n",
       "      <td>106.416667</td>\n",
       "      <td>69.025</td>\n",
       "    </tr>\n",
       "    <tr>\n",
       "      <th>2019</th>\n",
       "      <td>151.7270</td>\n",
       "      <td>111.722100</td>\n",
       "      <td>87.98000</td>\n",
       "      <td>801.161600</td>\n",
       "      <td>240.560000</td>\n",
       "      <td>19.60</td>\n",
       "      <td>205.000000</td>\n",
       "      <td>107.357</td>\n",
       "    </tr>\n",
       "  </tbody>\n",
       "</table>\n",
       "</div>"
      ],
      "text/plain": [
       "          M01AB       M01AE      N02BA       N02BE        N05B   N05C  \\\n",
       "datum                                                                   \n",
       "2014   125.8975  111.132833  140.27325  841.212917  362.916667  25.25   \n",
       "2019   151.7270  111.722100   87.98000  801.161600  240.560000  19.60   \n",
       "\n",
       "              R03      R06  \n",
       "datum                       \n",
       "2014   106.416667   69.025  \n",
       "2019   205.000000  107.357  "
      ]
     },
     "execution_count": 3,
     "metadata": {},
     "output_type": "execute_result"
    }
   ],
   "source": [
    "#Primeiro vamos selecionar os dados referentes aos anos de 2014 (nosso start-point) e de 2019 (nosso end-point)\n",
    "df_1 = pharma_sales_data.loc[(pharma_sales_data.datum.dt.year == 2014) | (pharma_sales_data.datum.dt.year == 2019)]\n",
    "df_1.loc[:,'datum'] = df_1.datum.dt.year\n",
    "df_1 = df_1.groupby('datum').mean() #Calculando a média de vendas para cada classe de medicamento em cada ano\n",
    "df_1.head()"
   ]
  },
  {
   "cell_type": "code",
   "execution_count": 4,
   "id": "60fe847a",
   "metadata": {
    "execution": {
     "iopub.execute_input": "2023-01-10T17:43:25.498561Z",
     "iopub.status.busy": "2023-01-10T17:43:25.498105Z",
     "iopub.status.idle": "2023-01-10T17:43:25.516624Z",
     "shell.execute_reply": "2023-01-10T17:43:25.515641Z"
    },
    "papermill": {
     "duration": 0.027464,
     "end_time": "2023-01-10T17:43:25.519200",
     "exception": false,
     "start_time": "2023-01-10T17:43:25.491736",
     "status": "completed"
    },
    "tags": []
   },
   "outputs": [],
   "source": [
    "delta = df_1.diff()\n",
    "delta = delta.reset_index()\n",
    "delta = delta.loc[delta.datum == 2019]\n",
    "delta = delta.drop(columns='datum')\n",
    "delta = round(delta)\n",
    "delta_str = delta.applymap(str) #Gerando um dataframe de strings para auxiliar na legenda dos gráficos"
   ]
  },
  {
   "cell_type": "code",
   "execution_count": 5,
   "id": "658f604f",
   "metadata": {
    "execution": {
     "iopub.execute_input": "2023-01-10T17:43:25.532361Z",
     "iopub.status.busy": "2023-01-10T17:43:25.531869Z",
     "iopub.status.idle": "2023-01-10T17:43:25.854142Z",
     "shell.execute_reply": "2023-01-10T17:43:25.852896Z"
    },
    "papermill": {
     "duration": 0.332703,
     "end_time": "2023-01-10T17:43:25.857345",
     "exception": false,
     "start_time": "2023-01-10T17:43:25.524642",
     "status": "completed"
    },
    "tags": []
   },
   "outputs": [
    {
     "data": {
      "text/plain": [
       "[Text(0.5, 0, 'Ano'), Text(0, 0.5, 'Quantidade de medicamentos vendidos')]"
      ]
     },
     "execution_count": 5,
     "metadata": {},
     "output_type": "execute_result"
    },
    {
     "data": {
      "image/png": "[encoded data removed]",
      "text/plain": [
       "<Figure size 432x288 with 1 Axes>"
      ]
     },
     "metadata": {
      "needs_background": "light"
     },
     "output_type": "display_data"
    }
   ],
   "source": [
    "# Vamos comparar o desempenho de medicamentos com ATC similares, começando pelos anti-inflamatórios\n",
    "ax = sns.lineplot(x=df_1.index, y=df_1.M01AB, ci = None, marker='o', color='#0FBA11')\n",
    "plt.text(0.1, 0.47, df_1.columns[0], horizontalalignment='center',\n",
    "     verticalalignment='center', transform=ax.transAxes, color='#0FBA11')\n",
    "plt.text(0.5, 0.72, 'Δ '+delta_str.iloc[0,0], horizontalalignment='center',\n",
    "     verticalalignment='center', transform=ax.transAxes, color='#0FBA11')\n",
    "bx = sns.lineplot(x=df_1.index, y=df_1.M01AE, ci = None, marker='o', color='#9C9C9C')\n",
    "plt.text(0.1, 0.1, df_1.columns[1], horizontalalignment='center',\n",
    "     verticalalignment='center', transform=bx.transAxes,color='#9C9C9C')\n",
    "plt.text(0.5, 0.1, 'Δ '+delta_str.iloc[0,1], horizontalalignment='center',\n",
    "     verticalalignment='center', transform=bx.transAxes,color='#9C9C9C')\n",
    "ax.set(xlabel='Ano', ylabel='Quantidade de medicamentos vendidos')"
   ]
  },
  {
   "cell_type": "code",
   "execution_count": 6,
   "id": "64935650",
   "metadata": {
    "execution": {
     "iopub.execute_input": "2023-01-10T17:43:25.872313Z",
     "iopub.status.busy": "2023-01-10T17:43:25.871880Z",
     "iopub.status.idle": "2023-01-10T17:43:26.150747Z",
     "shell.execute_reply": "2023-01-10T17:43:26.149046Z"
    },
    "papermill": {
     "duration": 0.289741,
     "end_time": "2023-01-10T17:43:26.153588",
     "exception": false,
     "start_time": "2023-01-10T17:43:25.863847",
     "status": "completed"
    },
    "tags": []
   },
   "outputs": [
    {
     "data": {
      "text/plain": [
       "[Text(0.5, 0, 'Ano'), Text(0, 0.5, 'Quantidade de medicamentos vendidos')]"
      ]
     },
     "execution_count": 6,
     "metadata": {},
     "output_type": "execute_result"
    },
    {
     "data": {
      "image/png": "[encoded data removed]",
      "text/plain": [
       "<Figure size 432x288 with 1 Axes>"
      ]
     },
     "metadata": {
      "needs_background": "light"
     },
     "output_type": "display_data"
    }
   ],
   "source": [
    "#Outros analgésicos e anti-piréticos\n",
    "cx = sns.lineplot(x=df_1.index, y=df_1.N02BA, ci = None, marker='o', color='red')\n",
    "plt.text(0.1, 0.9, df_1.columns[2], horizontalalignment='center',\n",
    "     verticalalignment='center', transform=cx.transAxes, color='red')\n",
    "plt.text(0.5, 0.88, 'Δ '+delta_str.iloc[0,2], horizontalalignment='center',\n",
    "     verticalalignment='center', transform=cx.transAxes, color='red')\n",
    "dx = sns.lineplot(x=df_1.index, y=df_1.N02BE, ci = None, marker='o', color='red')\n",
    "plt.text(0.1, 0.15, df_1.columns[3], horizontalalignment='center',\n",
    "     verticalalignment='center', transform=dx.transAxes, color='red')\n",
    "plt.text(0.5, 0.12, 'Δ '+delta_str.iloc[0,3], horizontalalignment='center',\n",
    "     verticalalignment='center', transform=dx.transAxes, color='red')\n",
    "cx.set(xlabel='Ano', ylabel='Quantidade de medicamentos vendidos')"
   ]
  },
  {
   "cell_type": "code",
   "execution_count": 7,
   "id": "f9272a4c",
   "metadata": {
    "execution": {
     "iopub.execute_input": "2023-01-10T17:43:26.170993Z",
     "iopub.status.busy": "2023-01-10T17:43:26.170568Z",
     "iopub.status.idle": "2023-01-10T17:43:26.446885Z",
     "shell.execute_reply": "2023-01-10T17:43:26.445568Z"
    },
    "papermill": {
     "duration": 0.290707,
     "end_time": "2023-01-10T17:43:26.450317",
     "exception": false,
     "start_time": "2023-01-10T17:43:26.159610",
     "status": "completed"
    },
    "tags": []
   },
   "outputs": [
    {
     "data": {
      "text/plain": [
       "[Text(0.5, 0, 'Ano'), Text(0, 0.5, 'Quantidade de medicamentos vendidos')]"
      ]
     },
     "execution_count": 7,
     "metadata": {},
     "output_type": "execute_result"
    },
    {
     "data": {
      "image/png": "[encoded data removed]",
      "text/plain": [
       "<Figure size 432x288 with 1 Axes>"
      ]
     },
     "metadata": {
      "needs_background": "light"
     },
     "output_type": "display_data"
    }
   ],
   "source": [
    "#Psicolépticos\n",
    "ex=sns.lineplot(x=df_1.index, y=df_1.N05B, ci = None, marker='o', color='red')\n",
    "plt.text(0.1, 0.89, df_1.columns[4], horizontalalignment='center',\n",
    "     verticalalignment='center', transform=ex.transAxes, color='red')\n",
    "plt.text(0.5, 0.85, 'Δ '+delta_str.iloc[0,4], horizontalalignment='center',\n",
    "     verticalalignment='center', transform=ex.transAxes, color='red')\n",
    "fx=sns.lineplot(x=df_1.index, y=df_1.N05C, ci = None, marker='o', color='red')\n",
    "plt.text(0.1, 0.1, df_1.columns[5], horizontalalignment='center',\n",
    "     verticalalignment='center', transform=fx.transAxes, color='red')\n",
    "plt.text(0.5, 0.1, 'Δ '+delta_str.iloc[0,5], horizontalalignment='center',\n",
    "     verticalalignment='center', transform=fx.transAxes, color='red')\n",
    "ex.set(xlabel='Ano', ylabel='Quantidade de medicamentos vendidos')"
   ]
  },
  {
   "cell_type": "code",
   "execution_count": 8,
   "id": "060b9e9c",
   "metadata": {
    "execution": {
     "iopub.execute_input": "2023-01-10T17:43:26.467875Z",
     "iopub.status.busy": "2023-01-10T17:43:26.467461Z",
     "iopub.status.idle": "2023-01-10T17:43:26.707739Z",
     "shell.execute_reply": "2023-01-10T17:43:26.706121Z"
    },
    "papermill": {
     "duration": 0.253194,
     "end_time": "2023-01-10T17:43:26.710863",
     "exception": false,
     "start_time": "2023-01-10T17:43:26.457669",
     "status": "completed"
    },
    "tags": []
   },
   "outputs": [
    {
     "data": {
      "text/plain": [
       "[Text(0.5, 0, 'Ano'), Text(0, 0.5, 'Quantidade de medicamentos vendidos')]"
      ]
     },
     "execution_count": 8,
     "metadata": {},
     "output_type": "execute_result"
    },
    {
     "data": {
      "image/png": "[encoded data removed]",
      "text/plain": [
       "<Figure size 432x288 with 1 Axes>"
      ]
     },
     "metadata": {
      "needs_background": "light"
     },
     "output_type": "display_data"
    }
   ],
   "source": [
    "#Fármacos para o tratamento de doenças pulmonares obstrutivas\n",
    "r1x = sns.lineplot(x=df_1.index, y=df_1.R03, ci = None, marker='o', color='#0FBA11')\n",
    "plt.text(0.1, 0.15, df_1.columns[6], horizontalalignment='center',\n",
    "     verticalalignment='center', transform=r1x.transAxes, color='#0FBA11')\n",
    "plt.text(0.5, 0.57, 'Δ '+delta_str.iloc[0,6], horizontalalignment='center',\n",
    "     verticalalignment='center', transform=r1x.transAxes, color='#0FBA11')\n",
    "r1x.set(xlabel='Ano', ylabel='Quantidade de medicamentos vendidos')"
   ]
  },
  {
   "cell_type": "code",
   "execution_count": 9,
   "id": "45bdc1de",
   "metadata": {
    "execution": {
     "iopub.execute_input": "2023-01-10T17:43:26.728200Z",
     "iopub.status.busy": "2023-01-10T17:43:26.727789Z",
     "iopub.status.idle": "2023-01-10T17:43:26.942596Z",
     "shell.execute_reply": "2023-01-10T17:43:26.941422Z"
    },
    "papermill": {
     "duration": 0.226599,
     "end_time": "2023-01-10T17:43:26.945191",
     "exception": false,
     "start_time": "2023-01-10T17:43:26.718592",
     "status": "completed"
    },
    "tags": []
   },
   "outputs": [
    {
     "data": {
      "text/plain": [
       "[Text(0.5, 0, 'Ano'), Text(0, 0.5, 'Quantidade de medicamentos vendidos')]"
      ]
     },
     "execution_count": 9,
     "metadata": {},
     "output_type": "execute_result"
    },
    {
     "data": {
      "image/png": "[encoded data removed]",
      "text/plain": [
       "<Figure size 432x288 with 1 Axes>"
      ]
     },
     "metadata": {
      "needs_background": "light"
     },
     "output_type": "display_data"
    }
   ],
   "source": [
    "#Anti-histamínicos\n",
    "r2x = sns.lineplot(x=df_1.index, y=df_1.R06, ci = None, marker='o', color='#0FBA11')\n",
    "plt.text(0.1, 0.15, df_1.columns[7], horizontalalignment='center',\n",
    "     verticalalignment='center', transform=r2x.transAxes, color='#0FBA11')\n",
    "plt.text(0.5, 0.57, 'Δ '+delta_str.iloc[0,7], horizontalalignment='center',\n",
    "     verticalalignment='center', transform=r2x.transAxes, color='#0FBA11')\n",
    "r2x.set(xlabel='Ano', ylabel='Quantidade de medicamentos vendidos')"
   ]
  },
  {
   "cell_type": "code",
   "execution_count": 10,
   "id": "be4533cd",
   "metadata": {
    "execution": {
     "iopub.execute_input": "2023-01-10T17:43:26.962511Z",
     "iopub.status.busy": "2023-01-10T17:43:26.960731Z",
     "iopub.status.idle": "2023-01-10T17:43:26.968556Z",
     "shell.execute_reply": "2023-01-10T17:43:26.967025Z"
    },
    "papermill": {
     "duration": 0.018638,
     "end_time": "2023-01-10T17:43:26.970930",
     "exception": false,
     "start_time": "2023-01-10T17:43:26.952292",
     "status": "completed"
    },
    "tags": []
   },
   "outputs": [],
   "source": [
    "#Agora vamos visualizar os dados juntos para termos uma noção global das vendas, crescimentos e decréscimos\n",
    "#Para não ter que definir manualmente todas as cores, vamos elaborar uma paleta de cores de forma condicional\n",
    "cores = ['red' if num < 0 else 'blue' if num > 0 and num != 1 else 'grey' for num in delta.iloc[0]]"
   ]
  }
 ],
 "metadata": {
  "kernelspec": {
   "display_name": "Python 3",
   "language": "python",
   "name": "python3"
  },
  "language_info": {
   "codemirror_mode": {
    "name": "ipython",
    "version": 3
   },
   "file_extension": ".py",
   "mimetype": "text/x-python",
   "name": "python",
   "nbconvert_exporter": "python",
   "pygments_lexer": "ipython3",
   "version": "3.7.12"
  },
  "papermill": {
   "default_parameters": {},
   "duration": 13.936297,
   "end_time": "2023-01-10T17:43:27.805833",
   "environment_variables": {},
   "exception": null,
   "input_path": "__notebook__.ipynb",
   "output_path": "__notebook__.ipynb",
   "parameters": {},
   "start_time": "2023-01-10T17:43:13.869536",
   "version": "2.3.4"
  }
 },
 "nbformat": 4,
 "nbformat_minor": 5
}
