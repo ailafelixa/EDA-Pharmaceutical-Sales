{
 "cells": [
  {
   "cell_type": "code",
   "execution_count": 1,
   "id": "1f61a476",
   "metadata": {
    "_cell_guid": "b1076dfc-b9ad-4769-8c92-a6c4dae69d19",
    "_uuid": "8f2839f25d086af736a60e9eeb907d3b93b6e0e5",
    "execution": {
     "iopub.execute_input": "2023-01-09T17:21:14.747766Z",
     "iopub.status.busy": "2023-01-09T17:21:14.747091Z",
     "iopub.status.idle": "2023-01-09T17:21:15.895386Z",
     "shell.execute_reply": "2023-01-09T17:21:15.893881Z"
    },
    "papermill": {
     "duration": 1.159363,
     "end_time": "2023-01-09T17:21:15.898346",
     "exception": false,
     "start_time": "2023-01-09T17:21:14.738983",
     "status": "completed"
    },
    "tags": []
   },
   "outputs": [
    {
     "name": "stdout",
     "output_type": "stream",
     "text": [
      "/kaggle/input/pharma-sales-data/salesdaily.csv\n",
      "/kaggle/input/pharma-sales-data/salesweekly.csv\n",
      "/kaggle/input/pharma-sales-data/salesmonthly.csv\n",
      "/kaggle/input/pharma-sales-data/saleshourly.csv\n"
     ]
    }
   ],
   "source": [
    "# This Python 3 environment comes with many helpful analytics libraries installed\n",
    "# It is defined by the kaggle/python Docker image: https://github.com/kaggle/docker-python\n",
    "# For example, here's several helpful packages to load\n",
    "\n",
    "import numpy as np # linear algebra\n",
    "import pandas as pd # data processing, CSV file I/O (e.g. pd.read_csv)\n",
    "import seaborn as sns\n",
    "import matplotlib.pyplot as plt\n",
    "%matplotlib inline\n",
    "\n",
    "\n",
    "# Input data files are available in the read-only \"../input/\" directory\n",
    "# For example, running this (by clicking run or pressing Shift+Enter) will list all files under the input directory\n",
    "\n",
    "import os\n",
    "for dirname, _, filenames in os.walk('/kaggle/input'):\n",
    "    for filename in filenames:\n",
    "        print(os.path.join(dirname, filename))\n",
    "\n",
    "# You can write up to 20GB to the current directory (/kaggle/working/) that gets preserved as output when you create a version using \"Save & Run All\" \n",
    "# You can also write temporary files to /kaggle/temp/, but they won't be saved outside of the current session"
   ]
  },
  {
   "cell_type": "markdown",
   "id": "1e4abfc4",
   "metadata": {
    "papermill": {
     "duration": 0.003742,
     "end_time": "2023-01-09T17:21:15.906710",
     "exception": false,
     "start_time": "2023-01-09T17:21:15.902968",
     "status": "completed"
    },
    "tags": []
   },
   "source": [
    "### Descrição dos dados ###\n",
    "[Descrição completa e fonte podem ser encontradas aqui](https://www.kaggle.com/datasets/milanzdravkovic/pharma-sales-data) \n",
    "\n",
    "The dataset is built from the initial dataset consisted of 600000 transactional data collected in 6 years (period 2014-2019), indicating date and time of sale, pharmaceutical drug brand name and sold quantity, exported from Point-of-Sale system in the individual pharmacy. Selected group of drugs from the dataset (57 drugs) is classified to the following Anatomical Therapeutic Chemical (ATC) Classification System categories:\n",
    "\n",
    "M01AB - Anti-inflammatory and antirheumatic products, non-steroids, Acetic acid derivatives and related substances\n",
    "\n",
    "M01AE - Anti-inflammatory and antirheumatic products, non-steroids, Propionic acid derivatives\n",
    "\n",
    "N02BA - Other analgesics and antipyretics, Salicylic acid and derivatives\n",
    "\n",
    "N02BE/B - Other analgesics and antipyretics, Pyrazolones and Anilides\n",
    "\n",
    "N05B - Psycholeptics drugs, Anxiolytic drugs\n",
    "\n",
    "N05C - Psycholeptics drugs, Hypnotics and sedatives drugs\n",
    "\n",
    "R03 - Drugs for obstructive airway diseases\n",
    "\n",
    "R06 - Antihistamines for systemic use"
   ]
  },
  {
   "cell_type": "markdown",
   "id": "8b8e65db",
   "metadata": {
    "papermill": {
     "duration": 0.003797,
     "end_time": "2023-01-09T17:21:15.914583",
     "exception": false,
     "start_time": "2023-01-09T17:21:15.910786",
     "status": "completed"
    },
    "tags": []
   },
   "source": [
    "____________________________________________________"
   ]
  },
  {
   "cell_type": "markdown",
   "id": "b125b7e3",
   "metadata": {
    "papermill": {
     "duration": 0.003796,
     "end_time": "2023-01-09T17:21:15.922440",
     "exception": false,
     "start_time": "2023-01-09T17:21:15.918644",
     "status": "completed"
    },
    "tags": []
   },
   "source": [
    "#### **Nosso objetivo é avaliar a venda de diferentes medicamentos, de modo a conseguir capturar alguns insigths importantes como:**\n",
    "#### \n",
    "*1.Quais classes de medicamentos estão apresentando aumento ou diminuição de demanda ao longo dos anos?*\n",
    "\n",
    "*2. Quais as classes de medicamentos mais e menos vendidos por mês?*\n",
    "\n",
    "*3. Quais os meses com mais e menos vendas?*"
   ]
  },
  {
   "cell_type": "markdown",
   "id": "aeb51764",
   "metadata": {
    "papermill": {
     "duration": 0.003813,
     "end_time": "2023-01-09T17:21:15.930294",
     "exception": false,
     "start_time": "2023-01-09T17:21:15.926481",
     "status": "completed"
    },
    "tags": []
   },
   "source": [
    "## Importação e pré-processamento ##"
   ]
  },
  {
   "cell_type": "code",
   "execution_count": 2,
   "id": "2259f3e3",
   "metadata": {
    "execution": {
     "iopub.execute_input": "2023-01-09T17:21:15.940474Z",
     "iopub.status.busy": "2023-01-09T17:21:15.940039Z",
     "iopub.status.idle": "2023-01-09T17:21:15.976285Z",
     "shell.execute_reply": "2023-01-09T17:21:15.974908Z"
    },
    "papermill": {
     "duration": 0.044687,
     "end_time": "2023-01-09T17:21:15.979030",
     "exception": false,
     "start_time": "2023-01-09T17:21:15.934343",
     "status": "completed"
    },
    "tags": []
   },
   "outputs": [
    {
     "data": {
      "text/plain": [
       "datum    datetime64[ns]\n",
       "M01AB           float64\n",
       "M01AE           float64\n",
       "N02BA           float64\n",
       "N02BE           float64\n",
       "N05B            float64\n",
       "N05C            float64\n",
       "R03             float64\n",
       "R06             float64\n",
       "dtype: object"
      ]
     },
     "execution_count": 2,
     "metadata": {},
     "output_type": "execute_result"
    }
   ],
   "source": [
    "#Primeiro, vamos importar e checar a estrutura dos dados\n",
    "pharma_sales_data = pd.read_csv('/kaggle/input/pharma-sales-data/salesmonthly.csv')\n",
    "pharma_sales_data.head()\n",
    "#pharma_sales_data.tail()\n",
    "\n",
    "#Podemos notar que os dados já estão ordenados pela data e que a coleta dos dados ocorre no último dia de cada mês.\n",
    "#Vamos ver em qual formato os dados estão armazenados\n",
    "pharma_sales_data.dtypes\n",
    "\n",
    "#A coluna de data está com tipo 'object', mas para trabalharmos com as datas corretamente devemos converte-la para o tipo datetime64\n",
    "pharma_sales_data['datum'] = pd.to_datetime(pharma_sales_data['datum'], format='%Y-%m-%d')\n",
    "pharma_sales_data.dtypes"
   ]
  },
  {
   "cell_type": "markdown",
   "id": "88983b2f",
   "metadata": {
    "papermill": {
     "duration": 0.003887,
     "end_time": "2023-01-09T17:21:15.987225",
     "exception": false,
     "start_time": "2023-01-09T17:21:15.983338",
     "status": "completed"
    },
    "tags": []
   },
   "source": [
    "### 1. Quais classes de medicamentos apresentaram aumento ou diminuição de demanda ao longo dos anos? ##"
   ]
  },
  {
   "cell_type": "code",
   "execution_count": 3,
   "id": "9ba7e6e0",
   "metadata": {
    "execution": {
     "iopub.execute_input": "2023-01-09T17:21:15.997753Z",
     "iopub.status.busy": "2023-01-09T17:21:15.997353Z",
     "iopub.status.idle": "2023-01-09T17:21:16.038043Z",
     "shell.execute_reply": "2023-01-09T17:21:16.036494Z"
    },
    "papermill": {
     "duration": 0.049263,
     "end_time": "2023-01-09T17:21:16.040883",
     "exception": false,
     "start_time": "2023-01-09T17:21:15.991620",
     "status": "completed"
    },
    "tags": []
   },
   "outputs": [
    {
     "name": "stderr",
     "output_type": "stream",
     "text": [
      "/opt/conda/lib/python3.7/site-packages/pandas/core/indexing.py:1773: SettingWithCopyWarning: \n",
      "A value is trying to be set on a copy of a slice from a DataFrame.\n",
      "Try using .loc[row_indexer,col_indexer] = value instead\n",
      "\n",
      "See the caveats in the documentation: https://pandas.pydata.org/pandas-docs/stable/user_guide/indexing.html#returning-a-view-versus-a-copy\n",
      "  self._setitem_single_column(ilocs[0], value, pi)\n"
     ]
    },
    {
     "data": {
      "text/html": [
       "<div>\n",
       "<style scoped>\n",
       "    .dataframe tbody tr th:only-of-type {\n",
       "        vertical-align: middle;\n",
       "    }\n",
       "\n",
       "    .dataframe tbody tr th {\n",
       "        vertical-align: top;\n",
       "    }\n",
       "\n",
       "    .dataframe thead th {\n",
       "        text-align: right;\n",
       "    }\n",
       "</style>\n",
       "<table border=\"1\" class=\"dataframe\">\n",
       "  <thead>\n",
       "    <tr style=\"text-align: right;\">\n",
       "      <th></th>\n",
       "      <th>M01AB</th>\n",
       "      <th>M01AE</th>\n",
       "      <th>N02BA</th>\n",
       "      <th>N02BE</th>\n",
       "      <th>N05B</th>\n",
       "      <th>N05C</th>\n",
       "      <th>R03</th>\n",
       "      <th>R06</th>\n",
       "    </tr>\n",
       "    <tr>\n",
       "      <th>datum</th>\n",
       "      <th></th>\n",
       "      <th></th>\n",
       "      <th></th>\n",
       "      <th></th>\n",
       "      <th></th>\n",
       "      <th></th>\n",
       "      <th></th>\n",
       "      <th></th>\n",
       "    </tr>\n",
       "  </thead>\n",
       "  <tbody>\n",
       "    <tr>\n",
       "      <th>2014</th>\n",
       "      <td>125.8975</td>\n",
       "      <td>111.132833</td>\n",
       "      <td>140.27325</td>\n",
       "      <td>841.212917</td>\n",
       "      <td>362.916667</td>\n",
       "      <td>25.25</td>\n",
       "      <td>106.416667</td>\n",
       "      <td>69.025</td>\n",
       "    </tr>\n",
       "    <tr>\n",
       "      <th>2019</th>\n",
       "      <td>151.7270</td>\n",
       "      <td>111.722100</td>\n",
       "      <td>87.98000</td>\n",
       "      <td>801.161600</td>\n",
       "      <td>240.560000</td>\n",
       "      <td>19.60</td>\n",
       "      <td>205.000000</td>\n",
       "      <td>107.357</td>\n",
       "    </tr>\n",
       "  </tbody>\n",
       "</table>\n",
       "</div>"
      ],
      "text/plain": [
       "          M01AB       M01AE      N02BA       N02BE        N05B   N05C  \\\n",
       "datum                                                                   \n",
       "2014   125.8975  111.132833  140.27325  841.212917  362.916667  25.25   \n",
       "2019   151.7270  111.722100   87.98000  801.161600  240.560000  19.60   \n",
       "\n",
       "              R03      R06  \n",
       "datum                       \n",
       "2014   106.416667   69.025  \n",
       "2019   205.000000  107.357  "
      ]
     },
     "execution_count": 3,
     "metadata": {},
     "output_type": "execute_result"
    }
   ],
   "source": [
    "#Primeiro vamos selecionar os dados referentes aos anos de 2014 (nosso start-point) e de 2019 (nosso end-point)\n",
    "df_1 = pharma_sales_data.loc[(pharma_sales_data.datum.dt.year == 2014) | (pharma_sales_data.datum.dt.year == 2019)]\n",
    "df_1.loc[:,'datum'] = df_1.datum.dt.year\n",
    "df_1 = df_1.groupby('datum').mean() #Calculando a média de vendas para cada classe de medicamento em cada ano\n",
    "df_1.head()"
   ]
  },
  {
   "cell_type": "code",
   "execution_count": 4,
   "id": "ce4f1d5b",
   "metadata": {
    "execution": {
     "iopub.execute_input": "2023-01-09T17:21:16.052092Z",
     "iopub.status.busy": "2023-01-09T17:21:16.051612Z",
     "iopub.status.idle": "2023-01-09T17:21:16.074240Z",
     "shell.execute_reply": "2023-01-09T17:21:16.073007Z"
    },
    "papermill": {
     "duration": 0.03174,
     "end_time": "2023-01-09T17:21:16.077377",
     "exception": false,
     "start_time": "2023-01-09T17:21:16.045637",
     "status": "completed"
    },
    "tags": []
   },
   "outputs": [
    {
     "data": {
      "text/html": [
       "<div>\n",
       "<style scoped>\n",
       "    .dataframe tbody tr th:only-of-type {\n",
       "        vertical-align: middle;\n",
       "    }\n",
       "\n",
       "    .dataframe tbody tr th {\n",
       "        vertical-align: top;\n",
       "    }\n",
       "\n",
       "    .dataframe thead th {\n",
       "        text-align: right;\n",
       "    }\n",
       "</style>\n",
       "<table border=\"1\" class=\"dataframe\">\n",
       "  <thead>\n",
       "    <tr style=\"text-align: right;\">\n",
       "      <th></th>\n",
       "      <th>M01AB</th>\n",
       "      <th>M01AE</th>\n",
       "      <th>N02BA</th>\n",
       "      <th>N02BE</th>\n",
       "      <th>N05B</th>\n",
       "      <th>N05C</th>\n",
       "      <th>R03</th>\n",
       "      <th>R06</th>\n",
       "    </tr>\n",
       "  </thead>\n",
       "  <tbody>\n",
       "    <tr>\n",
       "      <th>1</th>\n",
       "      <td>25.8295</td>\n",
       "      <td>0.589267</td>\n",
       "      <td>-52.29325</td>\n",
       "      <td>-40.051317</td>\n",
       "      <td>-122.356667</td>\n",
       "      <td>-5.65</td>\n",
       "      <td>98.583333</td>\n",
       "      <td>38.332</td>\n",
       "    </tr>\n",
       "  </tbody>\n",
       "</table>\n",
       "</div>"
      ],
      "text/plain": [
       "     M01AB     M01AE     N02BA      N02BE        N05B  N05C        R03     R06\n",
       "1  25.8295  0.589267 -52.29325 -40.051317 -122.356667 -5.65  98.583333  38.332"
      ]
     },
     "execution_count": 4,
     "metadata": {},
     "output_type": "execute_result"
    }
   ],
   "source": [
    "delta = df_1.diff()\n",
    "delta = delta.reset_index()\n",
    "delta = delta.loc[delta.datum == 2019]\n",
    "delta = delta.drop(columns='datum')\n",
    "delta"
   ]
  },
  {
   "cell_type": "code",
   "execution_count": 5,
   "id": "811d5655",
   "metadata": {
    "execution": {
     "iopub.execute_input": "2023-01-09T17:21:16.089025Z",
     "iopub.status.busy": "2023-01-09T17:21:16.088590Z",
     "iopub.status.idle": "2023-01-09T17:21:16.380879Z",
     "shell.execute_reply": "2023-01-09T17:21:16.379518Z"
    },
    "papermill": {
     "duration": 0.301394,
     "end_time": "2023-01-09T17:21:16.383720",
     "exception": false,
     "start_time": "2023-01-09T17:21:16.082326",
     "status": "completed"
    },
    "tags": []
   },
   "outputs": [
    {
     "data": {
      "text/plain": [
       "<AxesSubplot:xlabel='datum', ylabel='M01AB'>"
      ]
     },
     "execution_count": 5,
     "metadata": {},
     "output_type": "execute_result"
    },
    {
     "data": {
      "image/png": "[encoded data removed]",
      "text/plain": [
       "<Figure size 432x288 with 1 Axes>"
      ]
     },
     "metadata": {
      "needs_background": "light"
     },
     "output_type": "display_data"
    }
   ],
   "source": [
    "#Vamos comparar o desempenho de medicamentos com ATC similares, começando pelos anti-inflamatórios\n",
    "sns.lineplot(x=df_1.index, y=df_1.M01AB, ci = None, marker='o', color='#0FBA11')\n",
    "sns.lineplot(x=df_1.index, y=df_1.M01AE, ci = None, marker='o', color='#9C9C9C')"
   ]
  },
  {
   "cell_type": "code",
   "execution_count": 6,
   "id": "1c32d1e2",
   "metadata": {
    "execution": {
     "iopub.execute_input": "2023-01-09T17:21:16.397116Z",
     "iopub.status.busy": "2023-01-09T17:21:16.396541Z",
     "iopub.status.idle": "2023-01-09T17:21:16.658767Z",
     "shell.execute_reply": "2023-01-09T17:21:16.657549Z"
    },
    "papermill": {
     "duration": 0.272699,
     "end_time": "2023-01-09T17:21:16.661750",
     "exception": false,
     "start_time": "2023-01-09T17:21:16.389051",
     "status": "completed"
    },
    "tags": []
   },
   "outputs": [
    {
     "data": {
      "text/plain": [
       "<AxesSubplot:xlabel='datum', ylabel='N02BA'>"
      ]
     },
     "execution_count": 6,
     "metadata": {},
     "output_type": "execute_result"
    },
    {
     "data": {
      "image/png": "[encoded data removed]",
      "text/plain": [
       "<Figure size 432x288 with 1 Axes>"
      ]
     },
     "metadata": {
      "needs_background": "light"
     },
     "output_type": "display_data"
    }
   ],
   "source": [
    "#Outros analgésicos e anti-piréticos\n",
    "sns.lineplot(x=df_1.index, y=df_1.N02BA, ci = None, marker='o', color='red')\n",
    "sns.lineplot(x=df_1.index, y=df_1.N02BE, ci = None, marker='o', color='red')"
   ]
  },
  {
   "cell_type": "code",
   "execution_count": 7,
   "id": "951bf20e",
   "metadata": {
    "execution": {
     "iopub.execute_input": "2023-01-09T17:21:16.675292Z",
     "iopub.status.busy": "2023-01-09T17:21:16.674822Z",
     "iopub.status.idle": "2023-01-09T17:21:16.919108Z",
     "shell.execute_reply": "2023-01-09T17:21:16.917789Z"
    },
    "papermill": {
     "duration": 0.254433,
     "end_time": "2023-01-09T17:21:16.921857",
     "exception": false,
     "start_time": "2023-01-09T17:21:16.667424",
     "status": "completed"
    },
    "tags": []
   },
   "outputs": [
    {
     "data": {
      "text/plain": [
       "<AxesSubplot:xlabel='datum', ylabel='N05B'>"
      ]
     },
     "execution_count": 7,
     "metadata": {},
     "output_type": "execute_result"
    },
    {
     "data": {
      "image/png": "[encoded data removed]",
      "text/plain": [
       "<Figure size 432x288 with 1 Axes>"
      ]
     },
     "metadata": {
      "needs_background": "light"
     },
     "output_type": "display_data"
    }
   ],
   "source": [
    "#Psicolépticos\n",
    "sns.lineplot(x=df_1.index, y=df_1.N05B, ci = None, marker='o', color='red')\n",
    "sns.lineplot(x=df_1.index, y=df_1.N05C, ci = None, marker='o', color='#9C9C9C')"
   ]
  },
  {
   "cell_type": "code",
   "execution_count": 8,
   "id": "cc3153e1",
   "metadata": {
    "execution": {
     "iopub.execute_input": "2023-01-09T17:21:16.935808Z",
     "iopub.status.busy": "2023-01-09T17:21:16.935376Z",
     "iopub.status.idle": "2023-01-09T17:21:17.158899Z",
     "shell.execute_reply": "2023-01-09T17:21:17.157412Z"
    },
    "papermill": {
     "duration": 0.234005,
     "end_time": "2023-01-09T17:21:17.161848",
     "exception": false,
     "start_time": "2023-01-09T17:21:16.927843",
     "status": "completed"
    },
    "tags": []
   },
   "outputs": [
    {
     "data": {
      "text/plain": [
       "<AxesSubplot:xlabel='datum', ylabel='R03'>"
      ]
     },
     "execution_count": 8,
     "metadata": {},
     "output_type": "execute_result"
    },
    {
     "data": {
      "image/png": "[encoded data removed]",
      "text/plain": [
       "<Figure size 432x288 with 1 Axes>"
      ]
     },
     "metadata": {
      "needs_background": "light"
     },
     "output_type": "display_data"
    }
   ],
   "source": [
    "#Fármacos para o tratamento de doenças pulmonares obstrutivas\n",
    "sns.lineplot(x=df_1.index, y=df_1.R03, ci = None, marker='o', color='#0FBA11')\n"
   ]
  },
  {
   "cell_type": "code",
   "execution_count": 9,
   "id": "30a357ed",
   "metadata": {
    "execution": {
     "iopub.execute_input": "2023-01-09T17:21:17.176764Z",
     "iopub.status.busy": "2023-01-09T17:21:17.176345Z",
     "iopub.status.idle": "2023-01-09T17:21:17.405769Z",
     "shell.execute_reply": "2023-01-09T17:21:17.404440Z"
    },
    "papermill": {
     "duration": 0.240384,
     "end_time": "2023-01-09T17:21:17.408693",
     "exception": false,
     "start_time": "2023-01-09T17:21:17.168309",
     "status": "completed"
    },
    "tags": []
   },
   "outputs": [
    {
     "data": {
      "text/plain": [
       "<AxesSubplot:xlabel='datum', ylabel='R06'>"
      ]
     },
     "execution_count": 9,
     "metadata": {},
     "output_type": "execute_result"
    },
    {
     "data": {
      "image/png": "[encoded data removed]",
      "text/plain": [
       "<Figure size 432x288 with 1 Axes>"
      ]
     },
     "metadata": {
      "needs_background": "light"
     },
     "output_type": "display_data"
    }
   ],
   "source": [
    "#Anti-histamínicos\n",
    "sns.lineplot(x=df_1.index, y=df_1.R06, ci = None, marker='o', color='#0FBA11')"
   ]
  }
 ],
 "metadata": {
  "kernelspec": {
   "display_name": "Python 3",
   "language": "python",
   "name": "python3"
  },
  "language_info": {
   "codemirror_mode": {
    "name": "ipython",
    "version": 3
   },
   "file_extension": ".py",
   "mimetype": "text/x-python",
   "name": "python",
   "nbconvert_exporter": "python",
   "pygments_lexer": "ipython3",
   "version": "3.7.12"
  },
  "papermill": {
   "default_parameters": {},
   "duration": 13.177836,
   "end_time": "2023-01-09T17:21:18.340634",
   "environment_variables": {},
   "exception": null,
   "input_path": "__notebook__.ipynb",
   "output_path": "__notebook__.ipynb",
   "parameters": {},
   "start_time": "2023-01-09T17:21:05.162798",
   "version": "2.3.4"
  }
 },
 "nbformat": 4,
 "nbformat_minor": 5
}
